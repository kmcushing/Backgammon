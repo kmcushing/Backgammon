{
 "cells": [
  {
   "cell_type": "code",
   "execution_count": 1,
   "id": "68422c61",
   "metadata": {},
   "outputs": [],
   "source": [
    "import matplotlib.pyplot as plt\n",
    "import pandas as pd\n",
    "import numpy as np"
   ]
  },
  {
   "cell_type": "code",
   "execution_count": 2,
   "id": "ad6ae244",
   "metadata": {},
   "outputs": [],
   "source": [
    "results = pd.read_csv('data/tournament_training_results.csv')\n",
    "\n",
    "def n_hits(game):\n",
    "    f = open(f'data/game_logs/game_{game}_log.csv', 'r')\n",
    "    hits = 0\n",
    "    for l in f.readlines():\n",
    "        for s in l.split('/'):\n",
    "            if '25' in s:\n",
    "                hits += 1\n",
    "    return hits\n"
   ]
  },
  {
   "cell_type": "code",
   "execution_count": 3,
   "id": "77b0756e",
   "metadata": {},
   "outputs": [
    {
     "ename": "NameError",
     "evalue": "name 'n' is not defined",
     "output_type": "error",
     "traceback": [
      "\u001b[0;31m---------------------------------------------------------------------------\u001b[0m",
      "\u001b[0;31mNameError\u001b[0m                                 Traceback (most recent call last)",
      "\u001b[0;32m/var/folders/kq/0j6kqfpd497gcj_whd1dwkvh0000gn/T/ipykernel_28237/375868059.py\u001b[0m in \u001b[0;36m<module>\u001b[0;34m\u001b[0m\n\u001b[1;32m      1\u001b[0m \u001b[0mhits\u001b[0m \u001b[0;34m=\u001b[0m \u001b[0;34m[\u001b[0m\u001b[0mn_hits\u001b[0m\u001b[0;34m(\u001b[0m\u001b[0mi\u001b[0m\u001b[0;34m)\u001b[0m \u001b[0;32mfor\u001b[0m \u001b[0mi\u001b[0m \u001b[0;32min\u001b[0m \u001b[0mrange\u001b[0m\u001b[0;34m(\u001b[0m\u001b[0mlen\u001b[0m\u001b[0;34m(\u001b[0m\u001b[0mresults\u001b[0m\u001b[0;34m.\u001b[0m\u001b[0mindex\u001b[0m\u001b[0;34m[\u001b[0m\u001b[0;34m:\u001b[0m\u001b[0;36m724\u001b[0m\u001b[0;34m]\u001b[0m\u001b[0;34m)\u001b[0m\u001b[0;34m)\u001b[0m\u001b[0;34m]\u001b[0m\u001b[0;34m\u001b[0m\u001b[0;34m\u001b[0m\u001b[0m\n\u001b[1;32m      2\u001b[0m \u001b[0mhits_df\u001b[0m \u001b[0;34m=\u001b[0m \u001b[0mpd\u001b[0m\u001b[0;34m.\u001b[0m\u001b[0mDataFrame\u001b[0m\u001b[0;34m(\u001b[0m\u001b[0mhits\u001b[0m\u001b[0;34m,\u001b[0m\u001b[0mcolumns\u001b[0m\u001b[0;34m=\u001b[0m\u001b[0;34m[\u001b[0m\u001b[0;34m'hits'\u001b[0m\u001b[0;34m]\u001b[0m\u001b[0;34m)\u001b[0m\u001b[0;34m\u001b[0m\u001b[0;34m\u001b[0m\u001b[0m\n\u001b[0;32m----> 3\u001b[0;31m \u001b[0mhits_df\u001b[0m\u001b[0;34m[\u001b[0m\u001b[0;34m'group'\u001b[0m\u001b[0;34m]\u001b[0m \u001b[0;34m=\u001b[0m \u001b[0mhits_df\u001b[0m\u001b[0;34m.\u001b[0m\u001b[0mindex\u001b[0m \u001b[0;34m//\u001b[0m \u001b[0mn\u001b[0m\u001b[0;34m\u001b[0m\u001b[0;34m\u001b[0m\u001b[0m\n\u001b[0m\u001b[1;32m      4\u001b[0m \u001b[0mhits_avg\u001b[0m \u001b[0;34m=\u001b[0m \u001b[0mhits_df\u001b[0m\u001b[0;34m.\u001b[0m\u001b[0mgroupby\u001b[0m\u001b[0;34m(\u001b[0m\u001b[0;34m'group'\u001b[0m\u001b[0;34m)\u001b[0m\u001b[0;34m.\u001b[0m\u001b[0mmedian\u001b[0m\u001b[0;34m(\u001b[0m\u001b[0;34m)\u001b[0m\u001b[0;34m\u001b[0m\u001b[0;34m\u001b[0m\u001b[0m\n\u001b[1;32m      5\u001b[0m \u001b[0;34m\u001b[0m\u001b[0m\n",
      "\u001b[0;31mNameError\u001b[0m: name 'n' is not defined"
     ]
    }
   ],
   "source": [
    "hits = [n_hits(i) for i in range(len(results.index[:724]))]\n",
    "hits_df = pd.DataFrame(hits,columns=['hits'])\n",
    "hits_df['group'] = hits_df.index // n\n",
    "hits_avg = hits_df.groupby('group').median()\n",
    "\n",
    "plt.plot(range(len(hits_avg)), hits_avg)"
   ]
  },
  {
   "cell_type": "code",
   "execution_count": null,
   "id": "f9db29eb",
   "metadata": {},
   "outputs": [],
   "source": [
    "plt.plot(range(len(results)), results['plys'])"
   ]
  },
  {
   "cell_type": "code",
   "execution_count": 92,
   "id": "1b3c8254",
   "metadata": {},
   "outputs": [],
   "source": [
    "n = 10000\n",
    "results = pd.read_csv('data/tournament_training_results.csv')\n",
    "\n",
    "results2 = results.copy()\n",
    "results2['group'] = results2.index // n"
   ]
  },
  {
   "cell_type": "code",
   "execution_count": 93,
   "id": "c43325d8",
   "metadata": {},
   "outputs": [
    {
     "data": {
      "text/html": [
       "<div>\n",
       "<style scoped>\n",
       "    .dataframe tbody tr th:only-of-type {\n",
       "        vertical-align: middle;\n",
       "    }\n",
       "\n",
       "    .dataframe tbody tr th {\n",
       "        vertical-align: top;\n",
       "    }\n",
       "\n",
       "    .dataframe thead th {\n",
       "        text-align: right;\n",
       "    }\n",
       "</style>\n",
       "<table border=\"1\" class=\"dataframe\">\n",
       "  <thead>\n",
       "    <tr style=\"text-align: right;\">\n",
       "      <th></th>\n",
       "      <th>game</th>\n",
       "      <th>avg_loss</th>\n",
       "      <th>final_loss</th>\n",
       "      <th>group</th>\n",
       "    </tr>\n",
       "  </thead>\n",
       "  <tbody>\n",
       "    <tr>\n",
       "      <th>0</th>\n",
       "      <td>0</td>\n",
       "      <td>0.003906</td>\n",
       "      <td>0.093750</td>\n",
       "      <td>0</td>\n",
       "    </tr>\n",
       "    <tr>\n",
       "      <th>1</th>\n",
       "      <td>1</td>\n",
       "      <td>0.001411</td>\n",
       "      <td>0.087506</td>\n",
       "      <td>0</td>\n",
       "    </tr>\n",
       "    <tr>\n",
       "      <th>2</th>\n",
       "      <td>2</td>\n",
       "      <td>0.001973</td>\n",
       "      <td>0.098649</td>\n",
       "      <td>0</td>\n",
       "    </tr>\n",
       "    <tr>\n",
       "      <th>3</th>\n",
       "      <td>3</td>\n",
       "      <td>0.003856</td>\n",
       "      <td>0.092551</td>\n",
       "      <td>0</td>\n",
       "    </tr>\n",
       "    <tr>\n",
       "      <th>4</th>\n",
       "      <td>4</td>\n",
       "      <td>0.001900</td>\n",
       "      <td>0.087422</td>\n",
       "      <td>0</td>\n",
       "    </tr>\n",
       "    <tr>\n",
       "      <th>...</th>\n",
       "      <td>...</td>\n",
       "      <td>...</td>\n",
       "      <td>...</td>\n",
       "      <td>...</td>\n",
       "    </tr>\n",
       "    <tr>\n",
       "      <th>217917</th>\n",
       "      <td>217917</td>\n",
       "      <td>0.000362</td>\n",
       "      <td>0.001835</td>\n",
       "      <td>21</td>\n",
       "    </tr>\n",
       "    <tr>\n",
       "      <th>217918</th>\n",
       "      <td>217918</td>\n",
       "      <td>0.001600</td>\n",
       "      <td>0.055450</td>\n",
       "      <td>21</td>\n",
       "    </tr>\n",
       "    <tr>\n",
       "      <th>217919</th>\n",
       "      <td>217919</td>\n",
       "      <td>0.005373</td>\n",
       "      <td>0.247197</td>\n",
       "      <td>21</td>\n",
       "    </tr>\n",
       "    <tr>\n",
       "      <th>217920</th>\n",
       "      <td>217920</td>\n",
       "      <td>0.001315</td>\n",
       "      <td>0.053534</td>\n",
       "      <td>21</td>\n",
       "    </tr>\n",
       "    <tr>\n",
       "      <th>217921</th>\n",
       "      <td>217921</td>\n",
       "      <td>0.004401</td>\n",
       "      <td>0.237600</td>\n",
       "      <td>21</td>\n",
       "    </tr>\n",
       "  </tbody>\n",
       "</table>\n",
       "<p>217922 rows × 4 columns</p>\n",
       "</div>"
      ],
      "text/plain": [
       "          game  avg_loss  final_loss  group\n",
       "0            0  0.003906    0.093750      0\n",
       "1            1  0.001411    0.087506      0\n",
       "2            2  0.001973    0.098649      0\n",
       "3            3  0.003856    0.092551      0\n",
       "4            4  0.001900    0.087422      0\n",
       "...        ...       ...         ...    ...\n",
       "217917  217917  0.000362    0.001835     21\n",
       "217918  217918  0.001600    0.055450     21\n",
       "217919  217919  0.005373    0.247197     21\n",
       "217920  217920  0.001315    0.053534     21\n",
       "217921  217921  0.004401    0.237600     21\n",
       "\n",
       "[217922 rows x 4 columns]"
      ]
     },
     "execution_count": 93,
     "metadata": {},
     "output_type": "execute_result"
    }
   ],
   "source": [
    "results2"
   ]
  },
  {
   "cell_type": "code",
   "execution_count": 104,
   "id": "09f64f42",
   "metadata": {},
   "outputs": [],
   "source": [
    "grouped_results = results2.groupby('group').mean()"
   ]
  },
  {
   "cell_type": "code",
   "execution_count": 105,
   "id": "a89283de",
   "metadata": {},
   "outputs": [
    {
     "data": {
      "text/html": [
       "<div>\n",
       "<style scoped>\n",
       "    .dataframe tbody tr th:only-of-type {\n",
       "        vertical-align: middle;\n",
       "    }\n",
       "\n",
       "    .dataframe tbody tr th {\n",
       "        vertical-align: top;\n",
       "    }\n",
       "\n",
       "    .dataframe thead th {\n",
       "        text-align: right;\n",
       "    }\n",
       "</style>\n",
       "<table border=\"1\" class=\"dataframe\">\n",
       "  <thead>\n",
       "    <tr style=\"text-align: right;\">\n",
       "      <th></th>\n",
       "      <th>game</th>\n",
       "      <th>avg_loss</th>\n",
       "      <th>final_loss</th>\n",
       "    </tr>\n",
       "    <tr>\n",
       "      <th>group</th>\n",
       "      <th></th>\n",
       "      <th></th>\n",
       "      <th></th>\n",
       "    </tr>\n",
       "  </thead>\n",
       "  <tbody>\n",
       "    <tr>\n",
       "      <th>0</th>\n",
       "      <td>4999.5</td>\n",
       "      <td>0.003057</td>\n",
       "      <td>0.079492</td>\n",
       "    </tr>\n",
       "    <tr>\n",
       "      <th>1</th>\n",
       "      <td>14999.5</td>\n",
       "      <td>0.002838</td>\n",
       "      <td>0.072466</td>\n",
       "    </tr>\n",
       "    <tr>\n",
       "      <th>2</th>\n",
       "      <td>24999.5</td>\n",
       "      <td>0.002721</td>\n",
       "      <td>0.062833</td>\n",
       "    </tr>\n",
       "    <tr>\n",
       "      <th>3</th>\n",
       "      <td>34999.5</td>\n",
       "      <td>0.002799</td>\n",
       "      <td>0.063267</td>\n",
       "    </tr>\n",
       "    <tr>\n",
       "      <th>4</th>\n",
       "      <td>44999.5</td>\n",
       "      <td>0.002821</td>\n",
       "      <td>0.064747</td>\n",
       "    </tr>\n",
       "    <tr>\n",
       "      <th>5</th>\n",
       "      <td>54999.5</td>\n",
       "      <td>0.002780</td>\n",
       "      <td>0.064855</td>\n",
       "    </tr>\n",
       "    <tr>\n",
       "      <th>6</th>\n",
       "      <td>64999.5</td>\n",
       "      <td>0.002790</td>\n",
       "      <td>0.065326</td>\n",
       "    </tr>\n",
       "    <tr>\n",
       "      <th>7</th>\n",
       "      <td>74999.5</td>\n",
       "      <td>0.002763</td>\n",
       "      <td>0.064275</td>\n",
       "    </tr>\n",
       "    <tr>\n",
       "      <th>8</th>\n",
       "      <td>84999.5</td>\n",
       "      <td>0.002768</td>\n",
       "      <td>0.064434</td>\n",
       "    </tr>\n",
       "    <tr>\n",
       "      <th>9</th>\n",
       "      <td>94999.5</td>\n",
       "      <td>0.002810</td>\n",
       "      <td>0.064606</td>\n",
       "    </tr>\n",
       "    <tr>\n",
       "      <th>10</th>\n",
       "      <td>104999.5</td>\n",
       "      <td>0.002715</td>\n",
       "      <td>0.064140</td>\n",
       "    </tr>\n",
       "    <tr>\n",
       "      <th>11</th>\n",
       "      <td>114999.5</td>\n",
       "      <td>0.002772</td>\n",
       "      <td>0.061294</td>\n",
       "    </tr>\n",
       "    <tr>\n",
       "      <th>12</th>\n",
       "      <td>124999.5</td>\n",
       "      <td>0.002771</td>\n",
       "      <td>0.062997</td>\n",
       "    </tr>\n",
       "    <tr>\n",
       "      <th>13</th>\n",
       "      <td>134999.5</td>\n",
       "      <td>0.002670</td>\n",
       "      <td>0.060561</td>\n",
       "    </tr>\n",
       "    <tr>\n",
       "      <th>14</th>\n",
       "      <td>144999.5</td>\n",
       "      <td>0.002741</td>\n",
       "      <td>0.061590</td>\n",
       "    </tr>\n",
       "    <tr>\n",
       "      <th>15</th>\n",
       "      <td>154999.5</td>\n",
       "      <td>0.002769</td>\n",
       "      <td>0.062686</td>\n",
       "    </tr>\n",
       "    <tr>\n",
       "      <th>16</th>\n",
       "      <td>164999.5</td>\n",
       "      <td>0.002750</td>\n",
       "      <td>0.063359</td>\n",
       "    </tr>\n",
       "    <tr>\n",
       "      <th>17</th>\n",
       "      <td>174999.5</td>\n",
       "      <td>0.002790</td>\n",
       "      <td>0.063743</td>\n",
       "    </tr>\n",
       "    <tr>\n",
       "      <th>18</th>\n",
       "      <td>184999.5</td>\n",
       "      <td>0.002732</td>\n",
       "      <td>0.062353</td>\n",
       "    </tr>\n",
       "    <tr>\n",
       "      <th>19</th>\n",
       "      <td>194999.5</td>\n",
       "      <td>0.002721</td>\n",
       "      <td>0.063152</td>\n",
       "    </tr>\n",
       "    <tr>\n",
       "      <th>20</th>\n",
       "      <td>204999.5</td>\n",
       "      <td>0.002800</td>\n",
       "      <td>0.063949</td>\n",
       "    </tr>\n",
       "    <tr>\n",
       "      <th>21</th>\n",
       "      <td>213960.5</td>\n",
       "      <td>0.002701</td>\n",
       "      <td>0.062877</td>\n",
       "    </tr>\n",
       "  </tbody>\n",
       "</table>\n",
       "</div>"
      ],
      "text/plain": [
       "           game  avg_loss  final_loss\n",
       "group                                \n",
       "0        4999.5  0.003057    0.079492\n",
       "1       14999.5  0.002838    0.072466\n",
       "2       24999.5  0.002721    0.062833\n",
       "3       34999.5  0.002799    0.063267\n",
       "4       44999.5  0.002821    0.064747\n",
       "5       54999.5  0.002780    0.064855\n",
       "6       64999.5  0.002790    0.065326\n",
       "7       74999.5  0.002763    0.064275\n",
       "8       84999.5  0.002768    0.064434\n",
       "9       94999.5  0.002810    0.064606\n",
       "10     104999.5  0.002715    0.064140\n",
       "11     114999.5  0.002772    0.061294\n",
       "12     124999.5  0.002771    0.062997\n",
       "13     134999.5  0.002670    0.060561\n",
       "14     144999.5  0.002741    0.061590\n",
       "15     154999.5  0.002769    0.062686\n",
       "16     164999.5  0.002750    0.063359\n",
       "17     174999.5  0.002790    0.063743\n",
       "18     184999.5  0.002732    0.062353\n",
       "19     194999.5  0.002721    0.063152\n",
       "20     204999.5  0.002800    0.063949\n",
       "21     213960.5  0.002701    0.062877"
      ]
     },
     "execution_count": 105,
     "metadata": {},
     "output_type": "execute_result"
    }
   ],
   "source": [
    "grouped_results"
   ]
  },
  {
   "cell_type": "code",
   "execution_count": 106,
   "id": "0ed10c1c",
   "metadata": {},
   "outputs": [
    {
     "data": {
      "text/plain": [
       "[<matplotlib.lines.Line2D at 0x7faff01dd3a0>]"
      ]
     },
     "execution_count": 106,
     "metadata": {},
     "output_type": "execute_result"
    },
    {
     "data": {
      "image/png": "[encoded data removed]",
      "text/plain": [
       "<Figure size 432x288 with 1 Axes>"
      ]
     },
     "metadata": {
      "needs_background": "light"
     },
     "output_type": "display_data"
    }
   ],
   "source": [
    "plt.plot(range(len(grouped_results)), grouped_results['avg_loss'])"
   ]
  },
  {
   "cell_type": "code",
   "execution_count": 107,
   "id": "c29cb721",
   "metadata": {},
   "outputs": [
    {
     "data": {
      "text/plain": [
       "[<matplotlib.lines.Line2D at 0x7fafef3889a0>]"
      ]
     },
     "execution_count": 107,
     "metadata": {},
     "output_type": "execute_result"
    },
    {
     "data": {
      "image/png": "[encoded data removed]",
      "text/plain": [
       "<Figure size 432x288 with 1 Axes>"
      ]
     },
     "metadata": {
      "needs_background": "light"
     },
     "output_type": "display_data"
    }
   ],
   "source": [
    "plt.plot(range(20000), results2['final_loss'][:20000])"
   ]
  },
  {
   "cell_type": "code",
   "execution_count": 108,
   "id": "7ec9660e",
   "metadata": {},
   "outputs": [
    {
     "data": {
      "text/plain": [
       "[<matplotlib.lines.Line2D at 0x7faff031ea30>]"
      ]
     },
     "execution_count": 108,
     "metadata": {},
     "output_type": "execute_result"
    },
    {
     "data": {
      "image/png": "[encoded data removed]",
      "text/plain": [
       "<Figure size 432x288 with 1 Axes>"
      ]
     },
     "metadata": {
      "needs_background": "light"
     },
     "output_type": "display_data"
    }
   ],
   "source": [
    "plt.plot(range(len(grouped_results)), grouped_results['final_loss'])"
   ]
  },
  {
   "cell_type": "code",
   "execution_count": 111,
   "id": "71d42da7",
   "metadata": {},
   "outputs": [
    {
     "data": {
      "text/plain": [
       "0.0"
      ]
     },
     "execution_count": 111,
     "metadata": {},
     "output_type": "execute_result"
    }
   ],
   "source": [
    "np.array([2,1,-1,-2]) @ np.array([0.5,0,0,0.5])"
   ]
  },
  {
   "cell_type": "code",
   "execution_count": null,
   "id": "0e0d7972",
   "metadata": {},
   "outputs": [],
   "source": []
  },
  {
   "cell_type": "code",
   "execution_count": null,
   "id": "d98366f9",
   "metadata": {},
   "outputs": [],
   "source": []
  }
 ],
 "metadata": {
  "kernelspec": {
   "display_name": "Python 3 (ipykernel)",
   "language": "python",
   "name": "python3"
  },
  "language_info": {
   "codemirror_mode": {
    "name": "ipython",
    "version": 3
   },
   "file_extension": ".py",
   "mimetype": "text/x-python",
   "name": "python",
   "nbconvert_exporter": "python",
   "pygments_lexer": "ipython3",
   "version": "3.8.2"
  }
 },
 "nbformat": 4,
 "nbformat_minor": 5
}
