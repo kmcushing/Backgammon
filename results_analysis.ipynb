{
 "cells": [
  {
   "cell_type": "code",
   "execution_count": 1,
   "id": "68422c61",
   "metadata": {},
   "outputs": [],
   "source": [
    "import matplotlib.pyplot as plt\n",
    "import pandas as pd\n",
    "import numpy as np"
   ]
  },
  {
   "cell_type": "code",
   "execution_count": 2,
   "id": "ad6ae244",
   "metadata": {},
   "outputs": [],
   "source": [
    "results = pd.read_csv('data/tournament_training_results.csv')\n",
    "\n",
    "def n_hits(game):\n",
    "    f = open(f'data/game_logs/game_{game}_log.csv', 'r')\n",
    "    hits = 0\n",
    "    for l in f.readlines():\n",
    "        for s in l.split('/'):\n",
    "            if '25' in s:\n",
    "                hits += 1\n",
    "    return hits\n"
   ]
  },
  {
   "cell_type": "code",
   "execution_count": 3,
   "id": "77b0756e",
   "metadata": {},
   "outputs": [
    {
     "ename": "NameError",
     "evalue": "name 'n' is not defined",
     "output_type": "error",
     "traceback": [
      "\u001b[0;31m---------------------------------------------------------------------------\u001b[0m",
      "\u001b[0;31mNameError\u001b[0m                                 Traceback (most recent call last)",
      "\u001b[0;32m/var/folders/kq/0j6kqfpd497gcj_whd1dwkvh0000gn/T/ipykernel_28237/375868059.py\u001b[0m in \u001b[0;36m<module>\u001b[0;34m\u001b[0m\n\u001b[1;32m      1\u001b[0m \u001b[0mhits\u001b[0m \u001b[0;34m=\u001b[0m \u001b[0;34m[\u001b[0m\u001b[0mn_hits\u001b[0m\u001b[0;34m(\u001b[0m\u001b[0mi\u001b[0m\u001b[0;34m)\u001b[0m \u001b[0;32mfor\u001b[0m \u001b[0mi\u001b[0m \u001b[0;32min\u001b[0m \u001b[0mrange\u001b[0m\u001b[0;34m(\u001b[0m\u001b[0mlen\u001b[0m\u001b[0;34m(\u001b[0m\u001b[0mresults\u001b[0m\u001b[0;34m.\u001b[0m\u001b[0mindex\u001b[0m\u001b[0;34m[\u001b[0m\u001b[0;34m:\u001b[0m\u001b[0;36m724\u001b[0m\u001b[0;34m]\u001b[0m\u001b[0;34m)\u001b[0m\u001b[0;34m)\u001b[0m\u001b[0;34m]\u001b[0m\u001b[0;34m\u001b[0m\u001b[0;34m\u001b[0m\u001b[0m\n\u001b[1;32m      2\u001b[0m \u001b[0mhits_df\u001b[0m \u001b[0;34m=\u001b[0m \u001b[0mpd\u001b[0m\u001b[0;34m.\u001b[0m\u001b[0mDataFrame\u001b[0m\u001b[0;34m(\u001b[0m\u001b[0mhits\u001b[0m\u001b[0;34m,\u001b[0m\u001b[0mcolumns\u001b[0m\u001b[0;34m=\u001b[0m\u001b[0;34m[\u001b[0m\u001b[0;34m'hits'\u001b[0m\u001b[0;34m]\u001b[0m\u001b[0;34m)\u001b[0m\u001b[0;34m\u001b[0m\u001b[0;34m\u001b[0m\u001b[0m\n\u001b[0;32m----> 3\u001b[0;31m \u001b[0mhits_df\u001b[0m\u001b[0;34m[\u001b[0m\u001b[0;34m'group'\u001b[0m\u001b[0;34m]\u001b[0m \u001b[0;34m=\u001b[0m \u001b[0mhits_df\u001b[0m\u001b[0;34m.\u001b[0m\u001b[0mindex\u001b[0m \u001b[0;34m//\u001b[0m \u001b[0mn\u001b[0m\u001b[0;34m\u001b[0m\u001b[0;34m\u001b[0m\u001b[0m\n\u001b[0m\u001b[1;32m      4\u001b[0m \u001b[0mhits_avg\u001b[0m \u001b[0;34m=\u001b[0m \u001b[0mhits_df\u001b[0m\u001b[0;34m.\u001b[0m\u001b[0mgroupby\u001b[0m\u001b[0;34m(\u001b[0m\u001b[0;34m'group'\u001b[0m\u001b[0;34m)\u001b[0m\u001b[0;34m.\u001b[0m\u001b[0mmedian\u001b[0m\u001b[0;34m(\u001b[0m\u001b[0;34m)\u001b[0m\u001b[0;34m\u001b[0m\u001b[0;34m\u001b[0m\u001b[0m\n\u001b[1;32m      5\u001b[0m \u001b[0;34m\u001b[0m\u001b[0m\n",
      "\u001b[0;31mNameError\u001b[0m: name 'n' is not defined"
     ]
    }
   ],
   "source": [
    "hits = [n_hits(i) for i in range(len(results.index[:724]))]\n",
    "hits_df = pd.DataFrame(hits,columns=['hits'])\n",
    "hits_df['group'] = hits_df.index // n\n",
    "hits_avg = hits_df.groupby('group').median()\n",
    "\n",
    "plt.plot(range(len(hits_avg)), hits_avg)"
   ]
  },
  {
   "cell_type": "code",
   "execution_count": null,
   "id": "f9db29eb",
   "metadata": {},
   "outputs": [],
   "source": [
    "plt.plot(range(len(results)), results['plys'])"
   ]
  },
  {
   "cell_type": "code",
   "execution_count": 56,
   "id": "1b3c8254",
   "metadata": {},
   "outputs": [],
   "source": [
    "n = 10000\n",
    "results = pd.read_csv('data/tournament_training_results.csv')\n",
    "\n",
    "results2 = results.copy()\n",
    "results2['group'] = results2.index // n"
   ]
  },
  {
   "cell_type": "code",
   "execution_count": 57,
   "id": "c43325d8",
   "metadata": {},
   "outputs": [
    {
     "data": {
      "text/html": [
       "<div>\n",
       "<style scoped>\n",
       "    .dataframe tbody tr th:only-of-type {\n",
       "        vertical-align: middle;\n",
       "    }\n",
       "\n",
       "    .dataframe tbody tr th {\n",
       "        vertical-align: top;\n",
       "    }\n",
       "\n",
       "    .dataframe thead th {\n",
       "        text-align: right;\n",
       "    }\n",
       "</style>\n",
       "<table border=\"1\" class=\"dataframe\">\n",
       "  <thead>\n",
       "    <tr style=\"text-align: right;\">\n",
       "      <th></th>\n",
       "      <th>game</th>\n",
       "      <th>avg_loss</th>\n",
       "      <th>final_loss</th>\n",
       "      <th>group</th>\n",
       "    </tr>\n",
       "  </thead>\n",
       "  <tbody>\n",
       "    <tr>\n",
       "      <th>0</th>\n",
       "      <td>118492</td>\n",
       "      <td>0.002393</td>\n",
       "      <td>0.081779</td>\n",
       "      <td>0</td>\n",
       "    </tr>\n",
       "    <tr>\n",
       "      <th>1</th>\n",
       "      <td>118493</td>\n",
       "      <td>0.004180</td>\n",
       "      <td>0.110365</td>\n",
       "      <td>0</td>\n",
       "    </tr>\n",
       "    <tr>\n",
       "      <th>2</th>\n",
       "      <td>118494</td>\n",
       "      <td>0.004605</td>\n",
       "      <td>0.125924</td>\n",
       "      <td>0</td>\n",
       "    </tr>\n",
       "    <tr>\n",
       "      <th>3</th>\n",
       "      <td>118495</td>\n",
       "      <td>0.007526</td>\n",
       "      <td>0.087129</td>\n",
       "      <td>0</td>\n",
       "    </tr>\n",
       "    <tr>\n",
       "      <th>4</th>\n",
       "      <td>118496</td>\n",
       "      <td>0.002234</td>\n",
       "      <td>0.018668</td>\n",
       "      <td>0</td>\n",
       "    </tr>\n",
       "    <tr>\n",
       "      <th>...</th>\n",
       "      <td>...</td>\n",
       "      <td>...</td>\n",
       "      <td>...</td>\n",
       "      <td>...</td>\n",
       "    </tr>\n",
       "    <tr>\n",
       "      <th>118487</th>\n",
       "      <td>236979</td>\n",
       "      <td>0.001806</td>\n",
       "      <td>0.079873</td>\n",
       "      <td>11</td>\n",
       "    </tr>\n",
       "    <tr>\n",
       "      <th>118488</th>\n",
       "      <td>236980</td>\n",
       "      <td>0.000927</td>\n",
       "      <td>0.017832</td>\n",
       "      <td>11</td>\n",
       "    </tr>\n",
       "    <tr>\n",
       "      <th>118489</th>\n",
       "      <td>236981</td>\n",
       "      <td>0.000689</td>\n",
       "      <td>0.016995</td>\n",
       "      <td>11</td>\n",
       "    </tr>\n",
       "    <tr>\n",
       "      <th>118490</th>\n",
       "      <td>236982</td>\n",
       "      <td>0.000352</td>\n",
       "      <td>0.006143</td>\n",
       "      <td>11</td>\n",
       "    </tr>\n",
       "    <tr>\n",
       "      <th>118491</th>\n",
       "      <td>236983</td>\n",
       "      <td>0.000901</td>\n",
       "      <td>0.034760</td>\n",
       "      <td>11</td>\n",
       "    </tr>\n",
       "  </tbody>\n",
       "</table>\n",
       "<p>118492 rows × 4 columns</p>\n",
       "</div>"
      ],
      "text/plain": [
       "          game  avg_loss  final_loss  group\n",
       "0       118492  0.002393    0.081779      0\n",
       "1       118493  0.004180    0.110365      0\n",
       "2       118494  0.004605    0.125924      0\n",
       "3       118495  0.007526    0.087129      0\n",
       "4       118496  0.002234    0.018668      0\n",
       "...        ...       ...         ...    ...\n",
       "118487  236979  0.001806    0.079873     11\n",
       "118488  236980  0.000927    0.017832     11\n",
       "118489  236981  0.000689    0.016995     11\n",
       "118490  236982  0.000352    0.006143     11\n",
       "118491  236983  0.000901    0.034760     11\n",
       "\n",
       "[118492 rows x 4 columns]"
      ]
     },
     "execution_count": 57,
     "metadata": {},
     "output_type": "execute_result"
    }
   ],
   "source": [
    "results2"
   ]
  },
  {
   "cell_type": "code",
   "execution_count": 58,
   "id": "09f64f42",
   "metadata": {},
   "outputs": [],
   "source": [
    "grouped_results = results2.groupby('group').mean()"
   ]
  },
  {
   "cell_type": "code",
   "execution_count": 59,
   "id": "a89283de",
   "metadata": {},
   "outputs": [
    {
     "data": {
      "text/html": [
       "<div>\n",
       "<style scoped>\n",
       "    .dataframe tbody tr th:only-of-type {\n",
       "        vertical-align: middle;\n",
       "    }\n",
       "\n",
       "    .dataframe tbody tr th {\n",
       "        vertical-align: top;\n",
       "    }\n",
       "\n",
       "    .dataframe thead th {\n",
       "        text-align: right;\n",
       "    }\n",
       "</style>\n",
       "<table border=\"1\" class=\"dataframe\">\n",
       "  <thead>\n",
       "    <tr style=\"text-align: right;\">\n",
       "      <th></th>\n",
       "      <th>game</th>\n",
       "      <th>avg_loss</th>\n",
       "      <th>final_loss</th>\n",
       "    </tr>\n",
       "    <tr>\n",
       "      <th>group</th>\n",
       "      <th></th>\n",
       "      <th></th>\n",
       "      <th></th>\n",
       "    </tr>\n",
       "  </thead>\n",
       "  <tbody>\n",
       "    <tr>\n",
       "      <th>0</th>\n",
       "      <td>123491.5</td>\n",
       "      <td>0.002805</td>\n",
       "      <td>0.064770</td>\n",
       "    </tr>\n",
       "    <tr>\n",
       "      <th>1</th>\n",
       "      <td>133491.5</td>\n",
       "      <td>0.002803</td>\n",
       "      <td>0.066247</td>\n",
       "    </tr>\n",
       "    <tr>\n",
       "      <th>2</th>\n",
       "      <td>143491.5</td>\n",
       "      <td>0.002805</td>\n",
       "      <td>0.064837</td>\n",
       "    </tr>\n",
       "    <tr>\n",
       "      <th>3</th>\n",
       "      <td>153491.5</td>\n",
       "      <td>0.002781</td>\n",
       "      <td>0.064341</td>\n",
       "    </tr>\n",
       "    <tr>\n",
       "      <th>4</th>\n",
       "      <td>163491.5</td>\n",
       "      <td>0.002891</td>\n",
       "      <td>0.064610</td>\n",
       "    </tr>\n",
       "    <tr>\n",
       "      <th>5</th>\n",
       "      <td>173491.5</td>\n",
       "      <td>0.002813</td>\n",
       "      <td>0.065107</td>\n",
       "    </tr>\n",
       "    <tr>\n",
       "      <th>6</th>\n",
       "      <td>183491.5</td>\n",
       "      <td>0.002787</td>\n",
       "      <td>0.064868</td>\n",
       "    </tr>\n",
       "    <tr>\n",
       "      <th>7</th>\n",
       "      <td>193491.5</td>\n",
       "      <td>0.002809</td>\n",
       "      <td>0.065833</td>\n",
       "    </tr>\n",
       "    <tr>\n",
       "      <th>8</th>\n",
       "      <td>203491.5</td>\n",
       "      <td>0.002789</td>\n",
       "      <td>0.064143</td>\n",
       "    </tr>\n",
       "    <tr>\n",
       "      <th>9</th>\n",
       "      <td>213491.5</td>\n",
       "      <td>0.002745</td>\n",
       "      <td>0.064001</td>\n",
       "    </tr>\n",
       "    <tr>\n",
       "      <th>10</th>\n",
       "      <td>223491.5</td>\n",
       "      <td>0.002898</td>\n",
       "      <td>0.064476</td>\n",
       "    </tr>\n",
       "    <tr>\n",
       "      <th>11</th>\n",
       "      <td>232737.5</td>\n",
       "      <td>0.002786</td>\n",
       "      <td>0.064728</td>\n",
       "    </tr>\n",
       "  </tbody>\n",
       "</table>\n",
       "</div>"
      ],
      "text/plain": [
       "           game  avg_loss  final_loss\n",
       "group                                \n",
       "0      123491.5  0.002805    0.064770\n",
       "1      133491.5  0.002803    0.066247\n",
       "2      143491.5  0.002805    0.064837\n",
       "3      153491.5  0.002781    0.064341\n",
       "4      163491.5  0.002891    0.064610\n",
       "5      173491.5  0.002813    0.065107\n",
       "6      183491.5  0.002787    0.064868\n",
       "7      193491.5  0.002809    0.065833\n",
       "8      203491.5  0.002789    0.064143\n",
       "9      213491.5  0.002745    0.064001\n",
       "10     223491.5  0.002898    0.064476\n",
       "11     232737.5  0.002786    0.064728"
      ]
     },
     "execution_count": 59,
     "metadata": {},
     "output_type": "execute_result"
    }
   ],
   "source": [
    "grouped_results"
   ]
  },
  {
   "cell_type": "code",
   "execution_count": 60,
   "id": "0ed10c1c",
   "metadata": {},
   "outputs": [
    {
     "data": {
      "text/plain": [
       "[<matplotlib.lines.Line2D at 0x7fafffb04430>]"
      ]
     },
     "execution_count": 60,
     "metadata": {},
     "output_type": "execute_result"
    },
    {
     "data": {
      "image/png": "[encoded data removed]",
      "text/plain": [
       "<Figure size 432x288 with 1 Axes>"
      ]
     },
     "metadata": {
      "needs_background": "light"
     },
     "output_type": "display_data"
    }
   ],
   "source": [
    "plt.plot(range(len(grouped_results)), grouped_results['avg_loss'])"
   ]
  },
  {
   "cell_type": "code",
   "execution_count": 61,
   "id": "7ec9660e",
   "metadata": {},
   "outputs": [
    {
     "data": {
      "text/plain": [
       "[<matplotlib.lines.Line2D at 0x7fb00144d670>]"
      ]
     },
     "execution_count": 61,
     "metadata": {},
     "output_type": "execute_result"
    },
    {
     "data": {
      "image/png": "[encoded data removed]",
      "text/plain": [
       "<Figure size 432x288 with 1 Axes>"
      ]
     },
     "metadata": {
      "needs_background": "light"
     },
     "output_type": "display_data"
    }
   ],
   "source": [
    "plt.plot(range(len(grouped_results)), grouped_results['final_loss'])"
   ]
  },
  {
   "cell_type": "code",
   "execution_count": null,
   "id": "b5e4f1c3",
   "metadata": {},
   "outputs": [],
   "source": []
  }
 ],
 "metadata": {
  "kernelspec": {
   "display_name": "Python 3 (ipykernel)",
   "language": "python",
   "name": "python3"
  },
  "language_info": {
   "codemirror_mode": {
    "name": "ipython",
    "version": 3
   },
   "file_extension": ".py",
   "mimetype": "text/x-python",
   "name": "python",
   "nbconvert_exporter": "python",
   "pygments_lexer": "ipython3",
   "version": "3.8.2"
  }
 },
 "nbformat": 4,
 "nbformat_minor": 5
}
