{
 "cells": [
  {
   "cell_type": "code",
   "execution_count": 1,
   "id": "68422c61",
   "metadata": {},
   "outputs": [],
   "source": [
    "import matplotlib.pyplot as plt\n",
    "import pandas as pd\n",
    "import numpy as np"
   ]
  },
  {
   "cell_type": "code",
   "execution_count": 2,
   "id": "ad6ae244",
   "metadata": {},
   "outputs": [],
   "source": [
    "results = pd.read_csv('data/tournament_training_results.csv')\n",
    "\n",
    "def n_hits(game):\n",
    "    f = open(f'data/self_train_game_logs/game_{game}_log.csv', 'r')\n",
    "    hits = 0\n",
    "    for l in f.readlines():\n",
    "        for s in l.split('/'):\n",
    "            if '25' in s:\n",
    "                hits += 1\n",
    "    return hits\n"
   ]
  },
  {
   "cell_type": "code",
   "execution_count": 3,
   "id": "77b0756e",
   "metadata": {},
   "outputs": [
    {
     "ename": "NameError",
     "evalue": "name 'n' is not defined",
     "output_type": "error",
     "traceback": [
      "\u001b[0;31m---------------------------------------------------------------------------\u001b[0m",
      "\u001b[0;31mNameError\u001b[0m                                 Traceback (most recent call last)",
      "\u001b[0;32m/var/folders/kq/0j6kqfpd497gcj_whd1dwkvh0000gn/T/ipykernel_28237/375868059.py\u001b[0m in \u001b[0;36m<module>\u001b[0;34m\u001b[0m\n\u001b[1;32m      1\u001b[0m \u001b[0mhits\u001b[0m \u001b[0;34m=\u001b[0m \u001b[0;34m[\u001b[0m\u001b[0mn_hits\u001b[0m\u001b[0;34m(\u001b[0m\u001b[0mi\u001b[0m\u001b[0;34m)\u001b[0m \u001b[0;32mfor\u001b[0m \u001b[0mi\u001b[0m \u001b[0;32min\u001b[0m \u001b[0mrange\u001b[0m\u001b[0;34m(\u001b[0m\u001b[0mlen\u001b[0m\u001b[0;34m(\u001b[0m\u001b[0mresults\u001b[0m\u001b[0;34m.\u001b[0m\u001b[0mindex\u001b[0m\u001b[0;34m[\u001b[0m\u001b[0;34m:\u001b[0m\u001b[0;36m724\u001b[0m\u001b[0;34m]\u001b[0m\u001b[0;34m)\u001b[0m\u001b[0;34m)\u001b[0m\u001b[0;34m]\u001b[0m\u001b[0;34m\u001b[0m\u001b[0;34m\u001b[0m\u001b[0m\n\u001b[1;32m      2\u001b[0m \u001b[0mhits_df\u001b[0m \u001b[0;34m=\u001b[0m \u001b[0mpd\u001b[0m\u001b[0;34m.\u001b[0m\u001b[0mDataFrame\u001b[0m\u001b[0;34m(\u001b[0m\u001b[0mhits\u001b[0m\u001b[0;34m,\u001b[0m\u001b[0mcolumns\u001b[0m\u001b[0;34m=\u001b[0m\u001b[0;34m[\u001b[0m\u001b[0;34m'hits'\u001b[0m\u001b[0;34m]\u001b[0m\u001b[0;34m)\u001b[0m\u001b[0;34m\u001b[0m\u001b[0;34m\u001b[0m\u001b[0m\n\u001b[0;32m----> 3\u001b[0;31m \u001b[0mhits_df\u001b[0m\u001b[0;34m[\u001b[0m\u001b[0;34m'group'\u001b[0m\u001b[0;34m]\u001b[0m \u001b[0;34m=\u001b[0m \u001b[0mhits_df\u001b[0m\u001b[0;34m.\u001b[0m\u001b[0mindex\u001b[0m \u001b[0;34m//\u001b[0m \u001b[0mn\u001b[0m\u001b[0;34m\u001b[0m\u001b[0;34m\u001b[0m\u001b[0m\n\u001b[0m\u001b[1;32m      4\u001b[0m \u001b[0mhits_avg\u001b[0m \u001b[0;34m=\u001b[0m \u001b[0mhits_df\u001b[0m\u001b[0;34m.\u001b[0m\u001b[0mgroupby\u001b[0m\u001b[0;34m(\u001b[0m\u001b[0;34m'group'\u001b[0m\u001b[0;34m)\u001b[0m\u001b[0;34m.\u001b[0m\u001b[0mmedian\u001b[0m\u001b[0;34m(\u001b[0m\u001b[0;34m)\u001b[0m\u001b[0;34m\u001b[0m\u001b[0;34m\u001b[0m\u001b[0m\n\u001b[1;32m      5\u001b[0m \u001b[0;34m\u001b[0m\u001b[0m\n",
      "\u001b[0;31mNameError\u001b[0m: name 'n' is not defined"
     ]
    }
   ],
   "source": [
    "hits = [n_hits(i) for i in range(len(results.index[:724]))]\n",
    "hits_df = pd.DataFrame(hits,columns=['hits'])\n",
    "hits_df['group'] = hits_df.index // n\n",
    "hits_avg = hits_df.groupby('group').median()\n",
    "\n",
    "plt.plot(range(len(hits_avg)), hits_avg)"
   ]
  },
  {
   "cell_type": "code",
   "execution_count": null,
   "id": "f9db29eb",
   "metadata": {},
   "outputs": [],
   "source": [
    "plt.plot(range(len(results)), results['plys'])"
   ]
  },
  {
   "cell_type": "code",
   "execution_count": 169,
   "id": "1b3c8254",
   "metadata": {},
   "outputs": [],
   "source": [
    "n = 1000\n",
    "results = pd.read_csv('data/tournament_training_results.csv')\n",
    "\n",
    "results2 = results.copy()\n",
    "results2['group'] = results2.index // n"
   ]
  },
  {
   "cell_type": "code",
   "execution_count": 170,
   "id": "c43325d8",
   "metadata": {},
   "outputs": [
    {
     "data": {
      "text/html": [
       "<div>\n",
       "<style scoped>\n",
       "    .dataframe tbody tr th:only-of-type {\n",
       "        vertical-align: middle;\n",
       "    }\n",
       "\n",
       "    .dataframe tbody tr th {\n",
       "        vertical-align: top;\n",
       "    }\n",
       "\n",
       "    .dataframe thead th {\n",
       "        text-align: right;\n",
       "    }\n",
       "</style>\n",
       "<table border=\"1\" class=\"dataframe\">\n",
       "  <thead>\n",
       "    <tr style=\"text-align: right;\">\n",
       "      <th></th>\n",
       "      <th>game</th>\n",
       "      <th>avg_loss</th>\n",
       "      <th>final_loss</th>\n",
       "      <th>group</th>\n",
       "    </tr>\n",
       "  </thead>\n",
       "  <tbody>\n",
       "    <tr>\n",
       "      <th>0</th>\n",
       "      <td>0</td>\n",
       "      <td>0.067215</td>\n",
       "      <td>1.434710</td>\n",
       "      <td>0</td>\n",
       "    </tr>\n",
       "    <tr>\n",
       "      <th>1</th>\n",
       "      <td>1</td>\n",
       "      <td>0.014540</td>\n",
       "      <td>0.583062</td>\n",
       "      <td>0</td>\n",
       "    </tr>\n",
       "    <tr>\n",
       "      <th>2</th>\n",
       "      <td>2</td>\n",
       "      <td>0.042239</td>\n",
       "      <td>1.893565</td>\n",
       "      <td>0</td>\n",
       "    </tr>\n",
       "    <tr>\n",
       "      <th>3</th>\n",
       "      <td>3</td>\n",
       "      <td>0.076116</td>\n",
       "      <td>1.629536</td>\n",
       "      <td>0</td>\n",
       "    </tr>\n",
       "    <tr>\n",
       "      <th>4</th>\n",
       "      <td>4</td>\n",
       "      <td>0.043159</td>\n",
       "      <td>1.778559</td>\n",
       "      <td>0</td>\n",
       "    </tr>\n",
       "    <tr>\n",
       "      <th>...</th>\n",
       "      <td>...</td>\n",
       "      <td>...</td>\n",
       "      <td>...</td>\n",
       "      <td>...</td>\n",
       "    </tr>\n",
       "    <tr>\n",
       "      <th>148507</th>\n",
       "      <td>148507</td>\n",
       "      <td>0.154707</td>\n",
       "      <td>1.356932</td>\n",
       "      <td>148</td>\n",
       "    </tr>\n",
       "    <tr>\n",
       "      <th>148508</th>\n",
       "      <td>148508</td>\n",
       "      <td>0.271763</td>\n",
       "      <td>1.228998</td>\n",
       "      <td>148</td>\n",
       "    </tr>\n",
       "    <tr>\n",
       "      <th>148509</th>\n",
       "      <td>148509</td>\n",
       "      <td>0.078083</td>\n",
       "      <td>0.167846</td>\n",
       "      <td>148</td>\n",
       "    </tr>\n",
       "    <tr>\n",
       "      <th>148510</th>\n",
       "      <td>148510</td>\n",
       "      <td>0.194973</td>\n",
       "      <td>0.768354</td>\n",
       "      <td>148</td>\n",
       "    </tr>\n",
       "    <tr>\n",
       "      <th>148511</th>\n",
       "      <td>148511</td>\n",
       "      <td>0.105671</td>\n",
       "      <td>0.192754</td>\n",
       "      <td>148</td>\n",
       "    </tr>\n",
       "  </tbody>\n",
       "</table>\n",
       "<p>148512 rows × 4 columns</p>\n",
       "</div>"
      ],
      "text/plain": [
       "          game  avg_loss  final_loss  group\n",
       "0            0  0.067215    1.434710      0\n",
       "1            1  0.014540    0.583062      0\n",
       "2            2  0.042239    1.893565      0\n",
       "3            3  0.076116    1.629536      0\n",
       "4            4  0.043159    1.778559      0\n",
       "...        ...       ...         ...    ...\n",
       "148507  148507  0.154707    1.356932    148\n",
       "148508  148508  0.271763    1.228998    148\n",
       "148509  148509  0.078083    0.167846    148\n",
       "148510  148510  0.194973    0.768354    148\n",
       "148511  148511  0.105671    0.192754    148\n",
       "\n",
       "[148512 rows x 4 columns]"
      ]
     },
     "execution_count": 170,
     "metadata": {},
     "output_type": "execute_result"
    }
   ],
   "source": [
    "results2"
   ]
  },
  {
   "cell_type": "code",
   "execution_count": 180,
   "id": "09f64f42",
   "metadata": {},
   "outputs": [],
   "source": [
    "grouped_results = results2.groupby('group').median()"
   ]
  },
  {
   "cell_type": "code",
   "execution_count": 181,
   "id": "a89283de",
   "metadata": {},
   "outputs": [
    {
     "data": {
      "text/html": [
       "<div>\n",
       "<style scoped>\n",
       "    .dataframe tbody tr th:only-of-type {\n",
       "        vertical-align: middle;\n",
       "    }\n",
       "\n",
       "    .dataframe tbody tr th {\n",
       "        vertical-align: top;\n",
       "    }\n",
       "\n",
       "    .dataframe thead th {\n",
       "        text-align: right;\n",
       "    }\n",
       "</style>\n",
       "<table border=\"1\" class=\"dataframe\">\n",
       "  <thead>\n",
       "    <tr style=\"text-align: right;\">\n",
       "      <th></th>\n",
       "      <th>game</th>\n",
       "      <th>avg_loss</th>\n",
       "      <th>final_loss</th>\n",
       "    </tr>\n",
       "    <tr>\n",
       "      <th>group</th>\n",
       "      <th></th>\n",
       "      <th></th>\n",
       "      <th></th>\n",
       "    </tr>\n",
       "  </thead>\n",
       "  <tbody>\n",
       "    <tr>\n",
       "      <th>0</th>\n",
       "      <td>499.5</td>\n",
       "      <td>0.072504</td>\n",
       "      <td>1.091591</td>\n",
       "    </tr>\n",
       "    <tr>\n",
       "      <th>1</th>\n",
       "      <td>1499.5</td>\n",
       "      <td>0.112589</td>\n",
       "      <td>0.863715</td>\n",
       "    </tr>\n",
       "    <tr>\n",
       "      <th>2</th>\n",
       "      <td>2499.5</td>\n",
       "      <td>0.119566</td>\n",
       "      <td>0.749852</td>\n",
       "    </tr>\n",
       "    <tr>\n",
       "      <th>3</th>\n",
       "      <td>3499.5</td>\n",
       "      <td>0.128607</td>\n",
       "      <td>0.723920</td>\n",
       "    </tr>\n",
       "    <tr>\n",
       "      <th>4</th>\n",
       "      <td>4499.5</td>\n",
       "      <td>0.129175</td>\n",
       "      <td>0.709624</td>\n",
       "    </tr>\n",
       "    <tr>\n",
       "      <th>...</th>\n",
       "      <td>...</td>\n",
       "      <td>...</td>\n",
       "      <td>...</td>\n",
       "    </tr>\n",
       "    <tr>\n",
       "      <th>144</th>\n",
       "      <td>144499.5</td>\n",
       "      <td>0.144823</td>\n",
       "      <td>0.454406</td>\n",
       "    </tr>\n",
       "    <tr>\n",
       "      <th>145</th>\n",
       "      <td>145499.5</td>\n",
       "      <td>0.139446</td>\n",
       "      <td>0.396303</td>\n",
       "    </tr>\n",
       "    <tr>\n",
       "      <th>146</th>\n",
       "      <td>146499.5</td>\n",
       "      <td>0.142640</td>\n",
       "      <td>0.448797</td>\n",
       "    </tr>\n",
       "    <tr>\n",
       "      <th>147</th>\n",
       "      <td>147499.5</td>\n",
       "      <td>0.140565</td>\n",
       "      <td>0.399959</td>\n",
       "    </tr>\n",
       "    <tr>\n",
       "      <th>148</th>\n",
       "      <td>148255.5</td>\n",
       "      <td>0.141477</td>\n",
       "      <td>0.461474</td>\n",
       "    </tr>\n",
       "  </tbody>\n",
       "</table>\n",
       "<p>149 rows × 3 columns</p>\n",
       "</div>"
      ],
      "text/plain": [
       "           game  avg_loss  final_loss\n",
       "group                                \n",
       "0         499.5  0.072504    1.091591\n",
       "1        1499.5  0.112589    0.863715\n",
       "2        2499.5  0.119566    0.749852\n",
       "3        3499.5  0.128607    0.723920\n",
       "4        4499.5  0.129175    0.709624\n",
       "...         ...       ...         ...\n",
       "144    144499.5  0.144823    0.454406\n",
       "145    145499.5  0.139446    0.396303\n",
       "146    146499.5  0.142640    0.448797\n",
       "147    147499.5  0.140565    0.399959\n",
       "148    148255.5  0.141477    0.461474\n",
       "\n",
       "[149 rows x 3 columns]"
      ]
     },
     "execution_count": 181,
     "metadata": {},
     "output_type": "execute_result"
    }
   ],
   "source": [
    "grouped_results"
   ]
  },
  {
   "cell_type": "code",
   "execution_count": 182,
   "id": "0ed10c1c",
   "metadata": {},
   "outputs": [
    {
     "data": {
      "image/png": "[encoded data removed]",
      "text/plain": [
       "<Figure size 432x288 with 1 Axes>"
      ]
     },
     "metadata": {
      "needs_background": "light"
     },
     "output_type": "display_data"
    }
   ],
   "source": [
    "plt.plot(range(len(grouped_results)), grouped_results['avg_loss'])\n",
    "plt.title('Median Game Loss per Move (Window Size 1000 Games)')\n",
    "plt.ylabel('Medain Game Loss per Move')\n",
    "plt.xlabel('Number of Games Trained (Thousands)')\n",
    "plt.show()"
   ]
  },
  {
   "cell_type": "code",
   "execution_count": 183,
   "id": "7ec9660e",
   "metadata": {},
   "outputs": [
    {
     "data": {
      "image/png": "[encoded data removed]",
      "text/plain": [
       "<Figure size 432x288 with 1 Axes>"
      ]
     },
     "metadata": {
      "needs_background": "light"
     },
     "output_type": "display_data"
    }
   ],
   "source": [
    "plt.plot(range(len(grouped_results)), grouped_results['final_loss'])\n",
    "plt.title('Median Final Loss (Window Size 1000 Games)')\n",
    "plt.ylabel('Medain Final Loss')\n",
    "plt.xlabel('Number of Games Trained (Thousands)')\n",
    "plt.show()"
   ]
  },
  {
   "cell_type": "code",
   "execution_count": 175,
   "id": "1c241f7b",
   "metadata": {},
   "outputs": [
    {
     "data": {
      "text/plain": [
       "0.0"
      ]
     },
     "execution_count": 175,
     "metadata": {},
     "output_type": "execute_result"
    }
   ],
   "source": [
    "np.array([2,1,-1,-2]) @ np.array([0.5,0,0,0.5])"
   ]
  },
  {
   "cell_type": "code",
   "execution_count": null,
   "id": "97d7d52c",
   "metadata": {},
   "outputs": [],
   "source": []
  },
  {
   "cell_type": "code",
   "execution_count": null,
   "id": "1a142f49",
   "metadata": {},
   "outputs": [],
   "source": []
  }
 ],
 "metadata": {
  "kernelspec": {
   "display_name": "Python 3 (ipykernel)",
   "language": "python",
   "name": "python3"
  },
  "language_info": {
   "codemirror_mode": {
    "name": "ipython",
    "version": 3
   },
   "file_extension": ".py",
   "mimetype": "text/x-python",
   "name": "python",
   "nbconvert_exporter": "python",
   "pygments_lexer": "ipython3",
   "version": "3.8.2"
  }
 },
 "nbformat": 4,
 "nbformat_minor": 5
}
