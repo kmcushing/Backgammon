{
 "cells": [
  {
   "cell_type": "code",
   "execution_count": 1,
   "id": "68422c61",
   "metadata": {},
   "outputs": [],
   "source": [
    "import matplotlib.pyplot as plt\n",
    "import pandas as pd\n",
    "import numpy as np"
   ]
  },
  {
   "cell_type": "code",
   "execution_count": 2,
   "id": "ad6ae244",
   "metadata": {},
   "outputs": [],
   "source": [
    "results = pd.read_csv('data/tournament_training_results.csv')\n",
    "\n",
    "def n_hits(game):\n",
    "    f = open(f'data/game_logs/game_{game}_log.csv', 'r')\n",
    "    hits = 0\n",
    "    for l in f.readlines():\n",
    "        for s in l.split('/'):\n",
    "            if '25' in s:\n",
    "                hits += 1\n",
    "    return hits\n"
   ]
  },
  {
   "cell_type": "code",
   "execution_count": 3,
   "id": "77b0756e",
   "metadata": {},
   "outputs": [
    {
     "ename": "NameError",
     "evalue": "name 'n' is not defined",
     "output_type": "error",
     "traceback": [
      "\u001b[0;31m---------------------------------------------------------------------------\u001b[0m",
      "\u001b[0;31mNameError\u001b[0m                                 Traceback (most recent call last)",
      "\u001b[0;32m/var/folders/kq/0j6kqfpd497gcj_whd1dwkvh0000gn/T/ipykernel_28237/375868059.py\u001b[0m in \u001b[0;36m<module>\u001b[0;34m\u001b[0m\n\u001b[1;32m      1\u001b[0m \u001b[0mhits\u001b[0m \u001b[0;34m=\u001b[0m \u001b[0;34m[\u001b[0m\u001b[0mn_hits\u001b[0m\u001b[0;34m(\u001b[0m\u001b[0mi\u001b[0m\u001b[0;34m)\u001b[0m \u001b[0;32mfor\u001b[0m \u001b[0mi\u001b[0m \u001b[0;32min\u001b[0m \u001b[0mrange\u001b[0m\u001b[0;34m(\u001b[0m\u001b[0mlen\u001b[0m\u001b[0;34m(\u001b[0m\u001b[0mresults\u001b[0m\u001b[0;34m.\u001b[0m\u001b[0mindex\u001b[0m\u001b[0;34m[\u001b[0m\u001b[0;34m:\u001b[0m\u001b[0;36m724\u001b[0m\u001b[0;34m]\u001b[0m\u001b[0;34m)\u001b[0m\u001b[0;34m)\u001b[0m\u001b[0;34m]\u001b[0m\u001b[0;34m\u001b[0m\u001b[0;34m\u001b[0m\u001b[0m\n\u001b[1;32m      2\u001b[0m \u001b[0mhits_df\u001b[0m \u001b[0;34m=\u001b[0m \u001b[0mpd\u001b[0m\u001b[0;34m.\u001b[0m\u001b[0mDataFrame\u001b[0m\u001b[0;34m(\u001b[0m\u001b[0mhits\u001b[0m\u001b[0;34m,\u001b[0m\u001b[0mcolumns\u001b[0m\u001b[0;34m=\u001b[0m\u001b[0;34m[\u001b[0m\u001b[0;34m'hits'\u001b[0m\u001b[0;34m]\u001b[0m\u001b[0;34m)\u001b[0m\u001b[0;34m\u001b[0m\u001b[0;34m\u001b[0m\u001b[0m\n\u001b[0;32m----> 3\u001b[0;31m \u001b[0mhits_df\u001b[0m\u001b[0;34m[\u001b[0m\u001b[0;34m'group'\u001b[0m\u001b[0;34m]\u001b[0m \u001b[0;34m=\u001b[0m \u001b[0mhits_df\u001b[0m\u001b[0;34m.\u001b[0m\u001b[0mindex\u001b[0m \u001b[0;34m//\u001b[0m \u001b[0mn\u001b[0m\u001b[0;34m\u001b[0m\u001b[0;34m\u001b[0m\u001b[0m\n\u001b[0m\u001b[1;32m      4\u001b[0m \u001b[0mhits_avg\u001b[0m \u001b[0;34m=\u001b[0m \u001b[0mhits_df\u001b[0m\u001b[0;34m.\u001b[0m\u001b[0mgroupby\u001b[0m\u001b[0;34m(\u001b[0m\u001b[0;34m'group'\u001b[0m\u001b[0;34m)\u001b[0m\u001b[0;34m.\u001b[0m\u001b[0mmedian\u001b[0m\u001b[0;34m(\u001b[0m\u001b[0;34m)\u001b[0m\u001b[0;34m\u001b[0m\u001b[0;34m\u001b[0m\u001b[0m\n\u001b[1;32m      5\u001b[0m \u001b[0;34m\u001b[0m\u001b[0m\n",
      "\u001b[0;31mNameError\u001b[0m: name 'n' is not defined"
     ]
    }
   ],
   "source": [
    "hits = [n_hits(i) for i in range(len(results.index[:724]))]\n",
    "hits_df = pd.DataFrame(hits,columns=['hits'])\n",
    "hits_df['group'] = hits_df.index // n\n",
    "hits_avg = hits_df.groupby('group').median()\n",
    "\n",
    "plt.plot(range(len(hits_avg)), hits_avg)"
   ]
  },
  {
   "cell_type": "code",
   "execution_count": null,
   "id": "f9db29eb",
   "metadata": {},
   "outputs": [],
   "source": [
    "plt.plot(range(len(results)), results['plys'])"
   ]
  },
  {
   "cell_type": "code",
   "execution_count": 29,
   "id": "1b3c8254",
   "metadata": {},
   "outputs": [],
   "source": [
    "n = 10000\n",
    "results = pd.read_csv('data/tournament_training_results.csv')\n",
    "\n",
    "results2 = results.copy()\n",
    "results2['group'] = results2.index // n"
   ]
  },
  {
   "cell_type": "code",
   "execution_count": 30,
   "id": "c43325d8",
   "metadata": {},
   "outputs": [
    {
     "data": {
      "text/html": [
       "<div>\n",
       "<style scoped>\n",
       "    .dataframe tbody tr th:only-of-type {\n",
       "        vertical-align: middle;\n",
       "    }\n",
       "\n",
       "    .dataframe tbody tr th {\n",
       "        vertical-align: top;\n",
       "    }\n",
       "\n",
       "    .dataframe thead th {\n",
       "        text-align: right;\n",
       "    }\n",
       "</style>\n",
       "<table border=\"1\" class=\"dataframe\">\n",
       "  <thead>\n",
       "    <tr style=\"text-align: right;\">\n",
       "      <th></th>\n",
       "      <th>game</th>\n",
       "      <th>avg_loss</th>\n",
       "      <th>final_loss</th>\n",
       "      <th>group</th>\n",
       "    </tr>\n",
       "  </thead>\n",
       "  <tbody>\n",
       "    <tr>\n",
       "      <th>0</th>\n",
       "      <td>0</td>\n",
       "      <td>0.001616</td>\n",
       "      <td>0.093750</td>\n",
       "      <td>0</td>\n",
       "    </tr>\n",
       "    <tr>\n",
       "      <th>1</th>\n",
       "      <td>1</td>\n",
       "      <td>0.002917</td>\n",
       "      <td>0.087506</td>\n",
       "      <td>0</td>\n",
       "    </tr>\n",
       "    <tr>\n",
       "      <th>2</th>\n",
       "      <td>2</td>\n",
       "      <td>0.002529</td>\n",
       "      <td>0.080936</td>\n",
       "      <td>0</td>\n",
       "    </tr>\n",
       "    <tr>\n",
       "      <th>3</th>\n",
       "      <td>3</td>\n",
       "      <td>0.006180</td>\n",
       "      <td>0.074164</td>\n",
       "      <td>0</td>\n",
       "    </tr>\n",
       "    <tr>\n",
       "      <th>4</th>\n",
       "      <td>4</td>\n",
       "      <td>0.010546</td>\n",
       "      <td>0.105456</td>\n",
       "      <td>0</td>\n",
       "    </tr>\n",
       "    <tr>\n",
       "      <th>...</th>\n",
       "      <td>...</td>\n",
       "      <td>...</td>\n",
       "      <td>...</td>\n",
       "      <td>...</td>\n",
       "    </tr>\n",
       "    <tr>\n",
       "      <th>118487</th>\n",
       "      <td>118487</td>\n",
       "      <td>0.001877</td>\n",
       "      <td>0.080738</td>\n",
       "      <td>11</td>\n",
       "    </tr>\n",
       "    <tr>\n",
       "      <th>118488</th>\n",
       "      <td>118488</td>\n",
       "      <td>0.000780</td>\n",
       "      <td>0.009264</td>\n",
       "      <td>11</td>\n",
       "    </tr>\n",
       "    <tr>\n",
       "      <th>118489</th>\n",
       "      <td>118489</td>\n",
       "      <td>0.000770</td>\n",
       "      <td>0.017265</td>\n",
       "      <td>11</td>\n",
       "    </tr>\n",
       "    <tr>\n",
       "      <th>118490</th>\n",
       "      <td>118490</td>\n",
       "      <td>0.000218</td>\n",
       "      <td>0.002674</td>\n",
       "      <td>11</td>\n",
       "    </tr>\n",
       "    <tr>\n",
       "      <th>118491</th>\n",
       "      <td>118491</td>\n",
       "      <td>0.000849</td>\n",
       "      <td>0.031876</td>\n",
       "      <td>11</td>\n",
       "    </tr>\n",
       "  </tbody>\n",
       "</table>\n",
       "<p>118492 rows × 4 columns</p>\n",
       "</div>"
      ],
      "text/plain": [
       "          game  avg_loss  final_loss  group\n",
       "0            0  0.001616    0.093750      0\n",
       "1            1  0.002917    0.087506      0\n",
       "2            2  0.002529    0.080936      0\n",
       "3            3  0.006180    0.074164      0\n",
       "4            4  0.010546    0.105456      0\n",
       "...        ...       ...         ...    ...\n",
       "118487  118487  0.001877    0.080738     11\n",
       "118488  118488  0.000780    0.009264     11\n",
       "118489  118489  0.000770    0.017265     11\n",
       "118490  118490  0.000218    0.002674     11\n",
       "118491  118491  0.000849    0.031876     11\n",
       "\n",
       "[118492 rows x 4 columns]"
      ]
     },
     "execution_count": 30,
     "metadata": {},
     "output_type": "execute_result"
    }
   ],
   "source": [
    "results2"
   ]
  },
  {
   "cell_type": "code",
   "execution_count": 31,
   "id": "09f64f42",
   "metadata": {},
   "outputs": [],
   "source": [
    "grouped_results = results2.groupby('group').median()"
   ]
  },
  {
   "cell_type": "code",
   "execution_count": 32,
   "id": "a89283de",
   "metadata": {},
   "outputs": [
    {
     "data": {
      "text/html": [
       "<div>\n",
       "<style scoped>\n",
       "    .dataframe tbody tr th:only-of-type {\n",
       "        vertical-align: middle;\n",
       "    }\n",
       "\n",
       "    .dataframe tbody tr th {\n",
       "        vertical-align: top;\n",
       "    }\n",
       "\n",
       "    .dataframe thead th {\n",
       "        text-align: right;\n",
       "    }\n",
       "</style>\n",
       "<table border=\"1\" class=\"dataframe\">\n",
       "  <thead>\n",
       "    <tr style=\"text-align: right;\">\n",
       "      <th></th>\n",
       "      <th>game</th>\n",
       "      <th>avg_loss</th>\n",
       "      <th>final_loss</th>\n",
       "    </tr>\n",
       "    <tr>\n",
       "      <th>group</th>\n",
       "      <th></th>\n",
       "      <th></th>\n",
       "      <th></th>\n",
       "    </tr>\n",
       "  </thead>\n",
       "  <tbody>\n",
       "    <tr>\n",
       "      <th>0</th>\n",
       "      <td>4999.5</td>\n",
       "      <td>0.002129</td>\n",
       "      <td>0.073705</td>\n",
       "    </tr>\n",
       "    <tr>\n",
       "      <th>1</th>\n",
       "      <td>14999.5</td>\n",
       "      <td>0.002073</td>\n",
       "      <td>0.074176</td>\n",
       "    </tr>\n",
       "    <tr>\n",
       "      <th>2</th>\n",
       "      <td>24999.5</td>\n",
       "      <td>0.001943</td>\n",
       "      <td>0.046648</td>\n",
       "    </tr>\n",
       "    <tr>\n",
       "      <th>3</th>\n",
       "      <td>34999.5</td>\n",
       "      <td>0.001771</td>\n",
       "      <td>0.049603</td>\n",
       "    </tr>\n",
       "    <tr>\n",
       "      <th>4</th>\n",
       "      <td>44999.5</td>\n",
       "      <td>0.001932</td>\n",
       "      <td>0.055029</td>\n",
       "    </tr>\n",
       "    <tr>\n",
       "      <th>5</th>\n",
       "      <td>54999.5</td>\n",
       "      <td>0.001912</td>\n",
       "      <td>0.054692</td>\n",
       "    </tr>\n",
       "    <tr>\n",
       "      <th>6</th>\n",
       "      <td>64999.5</td>\n",
       "      <td>0.001974</td>\n",
       "      <td>0.057371</td>\n",
       "    </tr>\n",
       "    <tr>\n",
       "      <th>7</th>\n",
       "      <td>74999.5</td>\n",
       "      <td>0.001924</td>\n",
       "      <td>0.057885</td>\n",
       "    </tr>\n",
       "    <tr>\n",
       "      <th>8</th>\n",
       "      <td>84999.5</td>\n",
       "      <td>0.001897</td>\n",
       "      <td>0.054868</td>\n",
       "    </tr>\n",
       "    <tr>\n",
       "      <th>9</th>\n",
       "      <td>94999.5</td>\n",
       "      <td>0.001910</td>\n",
       "      <td>0.056600</td>\n",
       "    </tr>\n",
       "    <tr>\n",
       "      <th>10</th>\n",
       "      <td>104999.5</td>\n",
       "      <td>0.001946</td>\n",
       "      <td>0.056296</td>\n",
       "    </tr>\n",
       "    <tr>\n",
       "      <th>11</th>\n",
       "      <td>114245.5</td>\n",
       "      <td>0.001909</td>\n",
       "      <td>0.055981</td>\n",
       "    </tr>\n",
       "  </tbody>\n",
       "</table>\n",
       "</div>"
      ],
      "text/plain": [
       "           game  avg_loss  final_loss\n",
       "group                                \n",
       "0        4999.5  0.002129    0.073705\n",
       "1       14999.5  0.002073    0.074176\n",
       "2       24999.5  0.001943    0.046648\n",
       "3       34999.5  0.001771    0.049603\n",
       "4       44999.5  0.001932    0.055029\n",
       "5       54999.5  0.001912    0.054692\n",
       "6       64999.5  0.001974    0.057371\n",
       "7       74999.5  0.001924    0.057885\n",
       "8       84999.5  0.001897    0.054868\n",
       "9       94999.5  0.001910    0.056600\n",
       "10     104999.5  0.001946    0.056296\n",
       "11     114245.5  0.001909    0.055981"
      ]
     },
     "execution_count": 32,
     "metadata": {},
     "output_type": "execute_result"
    }
   ],
   "source": [
    "grouped_results"
   ]
  },
  {
   "cell_type": "code",
   "execution_count": 33,
   "id": "0ed10c1c",
   "metadata": {},
   "outputs": [
    {
     "data": {
      "text/plain": [
       "[<matplotlib.lines.Line2D at 0x7faffeb82970>]"
      ]
     },
     "execution_count": 33,
     "metadata": {},
     "output_type": "execute_result"
    },
    {
     "data": {
      "image/png": "[encoded data removed]",
      "text/plain": [
       "<Figure size 432x288 with 1 Axes>"
      ]
     },
     "metadata": {
      "needs_background": "light"
     },
     "output_type": "display_data"
    }
   ],
   "source": [
    "plt.plot(range(len(grouped_results)), grouped_results['avg_loss'])"
   ]
  },
  {
   "cell_type": "code",
   "execution_count": null,
   "id": "7ec9660e",
   "metadata": {},
   "outputs": [],
   "source": [
    "plt.plot(range(len(grouped_results)), grouped_results['final_loss'])"
   ]
  },
  {
   "cell_type": "code",
   "execution_count": null,
   "id": "cf401642",
   "metadata": {},
   "outputs": [],
   "source": []
  }
 ],
 "metadata": {
  "kernelspec": {
   "display_name": "Python 3 (ipykernel)",
   "language": "python",
   "name": "python3"
  },
  "language_info": {
   "codemirror_mode": {
    "name": "ipython",
    "version": 3
   },
   "file_extension": ".py",
   "mimetype": "text/x-python",
   "name": "python",
   "nbconvert_exporter": "python",
   "pygments_lexer": "ipython3",
   "version": "3.8.2"
  }
 },
 "nbformat": 4,
 "nbformat_minor": 5
}
